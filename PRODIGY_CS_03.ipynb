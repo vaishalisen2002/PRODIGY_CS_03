{
  "nbformat": 4,
  "nbformat_minor": 0,
  "metadata": {
    "colab": {
      "provenance": []
    },
    "kernelspec": {
      "name": "python3",
      "display_name": "Python 3"
    },
    "language_info": {
      "name": "python"
    }
  },
  "cells": [
    {
      "cell_type": "code",
      "execution_count": 2,
      "metadata": {
        "colab": {
          "base_uri": "https://localhost:8080/"
        },
        "id": "C79t7b_bpwpp",
        "outputId": "119a9e19-fa0a-459a-abc4-e6b227c814b0"
      },
      "outputs": [
        {
          "output_type": "stream",
          "name": "stdout",
          "text": [
            "Enter a password: V9930408067s@\n",
            "Password strength: 5\n",
            "Strong password!\n"
          ]
        }
      ],
      "source": [
        "import re\n",
        "\n",
        "def password_strength(password):\n",
        "    strength = 0\n",
        "    feedback = \"\"\n",
        "\n",
        "    # 1. Length\n",
        "    if len(password) < 8:\n",
        "        feedback += \"Password is too short. It should be at least 8 characters long.\\n\"\n",
        "    else:\n",
        "        strength += 1\n",
        "\n",
        "    # 2. Uppercase\n",
        "    if re.search(r\"[A-Z]\", password):\n",
        "        strength += 1\n",
        "    else:\n",
        "        feedback += \"Password should contain at least one uppercase letter.\\n\"\n",
        "\n",
        "    # 3. Lowercase\n",
        "    if re.search(r\"[a-z]\", password):\n",
        "        strength += 1\n",
        "    else:\n",
        "        feedback += \"Password should contain at least one lowercase letter.\\n\"\n",
        "\n",
        "    # 4. Numbers\n",
        "    if re.search(r\"\\d\", password):\n",
        "        strength += 1\n",
        "    else:\n",
        "        feedback += \"Password should contain at least one number.\\n\"\n",
        "\n",
        "    # 5. Special characters\n",
        "    if re.search(r\"[!@#$%^&*()_+=-{};:'<>,./?]\", password):\n",
        "        strength += 1\n",
        "    else:\n",
        "        feedback += \"Password should contain at least one special character.\\n\"\n",
        "\n",
        "    if strength == 5:\n",
        "        feedback = \"Strong password!\"\n",
        "    elif strength >= 3:\n",
        "        feedback = \"Medium password. \" + feedback\n",
        "    else:\n",
        "        feedback = \"Weak password. \" + feedback\n",
        "\n",
        "    return strength, feedback\n",
        "\n",
        "password = input(\"Enter a password: \")\n",
        "strength, feedback = password_strength(password)\n",
        "print(\"Password strength:\", strength)\n",
        "print(feedback)"
      ]
    }
  ]
}